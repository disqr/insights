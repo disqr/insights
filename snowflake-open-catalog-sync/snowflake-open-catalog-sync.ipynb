{
 "metadata": {
  "kernelspec": {
   "display_name": "Streamlit Notebook",
   "name": "streamlit"
  },
  "lastEditStatus": {
   "notebookId": "qlgul2ghs4c7gmkjqk3t",
   "authorId": "323962345327",
   "authorName": "TREYSMITHDEV",
   "authorEmail": "trey.smith@disqr.com",
   "sessionId": "8c7a5e64-9633-4acc-be88-05a4005a7428",
   "lastEditTime": 1749505216683
  }
 },
 "nbformat_minor": 5,
 "nbformat": 4,
 "cells": [
  {
   "cell_type": "markdown",
   "id": "424a2821-1c6e-4fee-ace3-06fce6654d10",
   "metadata": {
    "name": "prerequisites",
    "collapsed": false
   },
   "source": "# Pre-requisites\n\n## Snowflake Open Catalog\n\nSetup an Open Catalog account and create some iceberg tables. To follow along create a catalog named `arctic_tundra`.\n\n- [Getting Started](https://other-docs.snowflake.com/en/opencatalog/tutorials/open-catalog-gs)\n- [Doc](https://other-docs.snowflake.com/en/opencatalog/overview)\n\n"
  },
  {
   "cell_type": "markdown",
   "id": "a42b2b45-e9ff-481d-9f48-b13b24c3b15e",
   "metadata": {
    "name": "catalog_integration_doc",
    "collapsed": false
   },
   "source": "## Create Open Catalog Integration\n\n**Placeholders**\n- `<org>` - Your Snowflake Organization\n- `<account>` - Your Snowflake Open Catalog Account\n- OAuth Credentials ([Doc](https://other-docs.snowflake.com/en/opencatalog/configure-service-connection))\n    - `<client_id>` - OAuth Client Id\n    - `<client_secret>` - OAuth Client Secret\n- *Optional:*\n    - OAUTH_ALLOWED_SCOPES: ([doc](https://other-docs.snowflake.com/en/opencatalog/create-principal-role))"
  },
  {
   "cell_type": "code",
   "id": "db102fab-11ac-41db-8edd-303e82237afd",
   "metadata": {
    "language": "sql",
    "name": "catalog_integration"
   },
   "outputs": [],
   "source": "USE ROLE ACCOUNTADMIN;\n\nCREATE OR REPLACE CATALOG INTEGRATION \n  CATALOG_INT_MY_CATALOG\n  CATALOG_SOURCE = POLARIS\n  TABLE_FORMAT = ICEBERG\n  REST_CONFIG = (\n    CATALOG_URI = 'https://<org>-<account>.snowflakecomputing.com/polaris/api/catalog'\n    CATALOG_API_TYPE = PUBLIC\n    CATALOG_NAME = 'arctic_tundra'\n  )\n  REST_AUTHENTICATION = (\n    TYPE = OAUTH\n    OAUTH_CLIENT_ID = '<client_id>'\n    OAUTH_CLIENT_SECRET = '<client_secret>'\n    OAUTH_ALLOWED_SCOPES = ('PRINCIPAL_ROLE:ALL') -- Or more restrictive scopes\n  )\n  ENABLED = TRUE;\n\nGRANT USAGE ON INTEGRATION CATALOG_INT_MY_CATALOG TO ROLE SYSADMIN;",
   "execution_count": null
  },
  {
   "cell_type": "markdown",
   "id": "87027d27-ebef-45b0-b30e-314f803f6da1",
   "metadata": {
    "name": "external_volume_doc",
    "collapsed": false
   },
   "source": "## External Volume\n\nIn this example we are going to use S3. You will need the details from your Snowflake Open Catalog setup and AWS IAM configuration.\n\n**Placeholders:**\n- `<catalog_default_base_location>` - Can be found under Catalog Details > Storage Details\n- `<account_id>` - AWS Account Id\n- `<role_name>` - AWS Role Name\n- `<external_id>` - External Id set in the AWS IAM trust policy\n"
  },
  {
   "cell_type": "code",
   "id": "8d5cc32f-54ad-4f82-b431-401452e09b91",
   "metadata": {
    "language": "sql",
    "name": "external_volume"
   },
   "outputs": [],
   "source": "USE ROLE ACCOUNTADMIN;\nCREATE OR REPLACE EXTERNAL VOLUME EXT_VOL_ARCTIC_TUNDRA\n   STORAGE_LOCATIONS =\n      (\n         (\n            NAME = 'snowflake-open-catalog-volume'\n            STORAGE_PROVIDER = 'S3'\n            STORAGE_BASE_URL = '<catalog_default_base_location>'\n            STORAGE_AWS_ROLE_ARN = 'arn:aws:iam::<account_id>:role/<role_name>'\n            STORAGE_AWS_EXTERNAL_ID = '<external_id>'\n         )\n      )\n      ALLOW_WRITES = TRUE;\n\nUSE ROLE SECURITYADMIN;\nGRANT USAGE ON EXTERNAL VOLUME EXT_VOL_ARCTIC_TUNDRA TO ROLE SYSADMIN;",
   "execution_count": null
  },
  {
   "cell_type": "markdown",
   "id": "4602d1cd-7ea5-4c5a-ad39-5e63499c7780",
   "metadata": {
    "name": "database_doc",
    "collapsed": false
   },
   "source": "## Database\nThis is the database where your iceberg tables will live, configured to use your Catalog integration.\n\n\n**Placeholders**\n- `<namespace>` - For simplicity sake, we are going to name the schema the same as the namespace in the catalog, but can be whatever you choose."
  },
  {
   "cell_type": "code",
   "id": "4f5eabe6-63ca-44df-ad74-5b64ca814984",
   "metadata": {
    "language": "sql",
    "name": "database"
   },
   "outputs": [],
   "source": "USE ROLE SYSADMIN;\n\nCREATE DATABASE IF NOT EXISTS ARCTIC_TUNDRA;\nALTER DATABASE ARCTIC_TUNDRA\n  SET CATALOG = 'CATALOG_INT_MY_CATALOG';\n  \nCREATE SCHEMA ARCTIC_TUNDRA.EXAMPLE;",
   "execution_count": null
  },
  {
   "cell_type": "markdown",
   "id": "7bf6ab96-7c13-45c8-8545-d3cce250596a",
   "metadata": {
    "name": "stage_doc",
    "collapsed": false
   },
   "source": "## Create Stage\n\nDirectory settings will be used for the input of a stored procedure at a later step.\n\n**Placeholders:**\n- `<catalog_default_base_location>` - Can be found under Catalog Details > Storage Details"
  },
  {
   "cell_type": "code",
   "id": "1fdf0ff2-e240-44d2-a193-24410410063e",
   "metadata": {
    "language": "sql",
    "name": "stage"
   },
   "outputs": [],
   "source": "USE ROLE SYSADMIN;\n\nCREATE OR REPLACE STAGE ARCTIC_TUNDRA.EXAMPLE.STG_ARCTIC_TUNDRA\nURL = '<catalog_default_base_location>'\nSTORAGE_INTEGRATION = INT_S3_ARCTIC_TUNDRA\nDIRECTORY = (\n    ENABLE = true\n    AUTO_REFRESH = true\n  );",
   "execution_count": null
  },
  {
   "cell_type": "markdown",
   "id": "371e44cc-6b06-4e6f-859e-806d0b8d2852",
   "metadata": {
    "name": "stored_procedure_doc",
    "collapsed": false
   },
   "source": "# Stored Procedure\nNext we'll create a stored procedure to iterate through the Iceberg tables within the catalog and create the Iceberg tables within Snowflake.\n\n**Parameters:**\n- `stage_name` - Stage we created to see iceberg table files\n- `schema_name` - Iceberg namespace\n- `table_exclusion_pattern` - Wildcard pattern of tables to not create\n\n\n> The catalog is hardcoded (`CATALOG_INT_MY_CATALOG`) but this could be paramaterized as well\n\n"
  },
  {
   "cell_type": "code",
   "id": "7ce267b5-95ba-4ab2-a4f6-5d2ead1b6f27",
   "metadata": {
    "language": "sql",
    "name": "stored_procedure"
   },
   "outputs": [],
   "source": "USE ROLE SYSADMIN;\n\nCREATE OR REPLACE PROCEDURE ARCTIC_TUNDRA.EXAMPLE.SP_SYNC_CATALOG_ICEBERG_TABLES(\n    stage_name VARCHAR,\n    schema_name VARCHAR,\n    table_exclusion_pattern VARCHAR\n)\nRETURNS STRING\nLANGUAGE PYTHON\nRUNTIME_VERSION = '3.12'\nPACKAGES = ('snowflake-snowpark-python')\nHANDLER = 'main'\nAS\n$$\ndef main(session, stage_name, schema_name, table_exclusion_pattern):\n    \n    result_logs = []\n\n    # Dynamic Query\n    query = f\"\"\"\n    WITH iceberg_tables AS (\n        SELECT DISTINCT\n            CURRENT_DATABASE() AS database_name,\n            SPLIT_PART(RELATIVE_PATH, '/', 2) AS schema_name,\n            SPLIT_PART(RELATIVE_PATH, '/', 3) AS table_name,\n            'CATALOG = ''CATALOG_INT_MY_CATALOG''\\\\n' ||\n            'EXTERNAL_VOLUME = ''EXT_VOL_ARCTIC_TUNDRA''\\\\n' ||\n            'CATALOG_NAMESPACE = ''' || SPLIT_PART(RELATIVE_PATH, '/', 2) || '''\\\\n' ||\n            'CATALOG_TABLE_NAME = ''' || SPLIT_PART(RELATIVE_PATH, '/', 3) || '''' AS statement_params\n        FROM DIRECTORY(@{stage_name})\n    )\n    SELECT\n        'CREATE ICEBERG TABLE IF NOT EXISTS ' || \n        UPPER(database_name || '.' || schema_name || '.' || table_name) || '\\\\n' || \n        statement_params AS stmt\n    FROM iceberg_tables\n    WHERE schema_name ILIKE '{schema_name}' AND table_name NOT ILIKE '{table_exclusion_pattern}';\n    \"\"\"\n\n    # Execute and iterate over results\n    rows = session.sql(query).collect()\n\n    for row in rows:\n        stmt = row['STMT']\n        try:\n            session.sql(stmt).collect()\n            result_logs.append(f\"Executed: {stmt}\")\n        except Exception as e:\n            result_logs.append(f\"Failed: {stmt} -- {str(e)}\")\n\n    return \"\\\\n\".join(result_logs)\n$$;",
   "execution_count": null
  },
  {
   "cell_type": "markdown",
   "id": "8a9a537f-a3ac-4e86-a92d-321e2baa45fc",
   "metadata": {
    "name": "sync_doc",
    "collapsed": false
   },
   "source": "# Sync\n\nExecute the stored procedure."
  },
  {
   "cell_type": "code",
   "id": "52806d80-1c3d-4576-9a6a-80dd3e13cb2e",
   "metadata": {
    "language": "sql",
    "name": "sync"
   },
   "outputs": [],
   "source": "USE ROLE SYSADMIN;\nCALL ARCTIC_TUNDRA.EXAMPLE.SP_SYNC_CATALOG_ICEBERG_TABLES('ARCTIC_TUNDRA.EXAMPLE.STG_ARCTIC_TUNDRA','example','sys__%');",
   "execution_count": null
  }
 ]
}